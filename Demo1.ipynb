{
  "nbformat": 4,
  "nbformat_minor": 0,
  "metadata": {
    "colab": {
      "provenance": [],
      "authorship_tag": "ABX9TyOdef/oyYrA7iJe3eiRSBca",
      "include_colab_link": true
    },
    "kernelspec": {
      "name": "python3",
      "display_name": "Python 3"
    },
    "language_info": {
      "name": "python"
    }
  },
  "cells": [
    {
      "cell_type": "markdown",
      "metadata": {
        "id": "view-in-github",
        "colab_type": "text"
      },
      "source": [
        "<a href=\"https://colab.research.google.com/github/beltranjustine/58003-OOP/blob/main/Demo1.ipynb\" target=\"_parent\"><img src=\"https://colab.research.google.com/assets/colab-badge.svg\" alt=\"Open In Colab\"/></a>"
      ]
    },
    {
      "cell_type": "code",
      "execution_count": null,
      "metadata": {
        "id": "_aKVQRpkOF9F"
      },
      "outputs": [],
      "source": []
    },
    {
      "cell_type": "markdown",
      "source": [
        "#string output using double quoter or single quote"
      ],
      "metadata": {
        "id": "Z5DcyhMrP5OD"
      }
    },
    {
      "cell_type": "code",
      "source": [
        "x =\"Beltran\"\n",
        "print(\"Adamsonian si \" + x)"
      ],
      "metadata": {
        "colab": {
          "base_uri": "https://localhost:8080/"
        },
        "id": "OZgDHg8KQIr6",
        "outputId": "893158de-6cf9-4fc3-bf8f-e545d38e34c4"
      },
      "execution_count": 2,
      "outputs": [
        {
          "output_type": "stream",
          "name": "stdout",
          "text": [
            "Adamsonian si Beltran\n"
          ]
        }
      ]
    },
    {
      "cell_type": "markdown",
      "source": [
        "#Output Variables"
      ],
      "metadata": {
        "id": "_EapR5m2QcLx"
      }
    },
    {
      "cell_type": "code",
      "source": [
        "x = \" Enjoying \"\n",
        "y = \" python \"\n",
        "z = \" is \"\n",
        "z = x + y\n",
        "print(z)"
      ],
      "metadata": {
        "colab": {
          "base_uri": "https://localhost:8080/"
        },
        "id": "QkfagBTxQbhh",
        "outputId": "1db8c4e8-aa4c-44c4-aa56-ec9a73d88345"
      },
      "execution_count": 4,
      "outputs": [
        {
          "output_type": "stream",
          "name": "stdout",
          "text": [
            " Enjoying  python \n"
          ]
        }
      ]
    },
    {
      "cell_type": "markdown",
      "source": [
        "#Arithmetic Operation"
      ],
      "metadata": {
        "id": "w4NxYKqMQ2TJ"
      }
    },
    {
      "cell_type": "code",
      "source": [
        "x = 5\n",
        "y = 3\n",
        "\n",
        "print(x+y)\n",
        "x=5\n",
        "y = 3\n",
        "sum = x+y\n",
        "sum"
      ],
      "metadata": {
        "colab": {
          "base_uri": "https://localhost:8080/"
        },
        "id": "tNZ6moHbQ6qI",
        "outputId": "7bca75a5-6527-4d28-a05c-35487f10844f"
      },
      "execution_count": 5,
      "outputs": [
        {
          "output_type": "stream",
          "name": "stdout",
          "text": [
            "8\n"
          ]
        },
        {
          "output_type": "execute_result",
          "data": {
            "text/plain": [
              "8"
            ]
          },
          "metadata": {},
          "execution_count": 5
        }
      ]
    },
    {
      "cell_type": "markdown",
      "source": [
        "#Assignment Operations\n"
      ],
      "metadata": {
        "id": "dSNPGATdRKuw"
      }
    },
    {
      "cell_type": "code",
      "source": [
        "a,b,c = 0, -1, 6\n",
        "c%=3\n",
        "c\n",
        "\n",
        "a,b,c = 0, -1, 6\n",
        "a>b and c>b"
      ],
      "metadata": {
        "colab": {
          "base_uri": "https://localhost:8080/"
        },
        "id": "M8TJ5PMKROyh",
        "outputId": "981ec71a-48d9-4329-90a9-8e8df4a09efd"
      },
      "execution_count": 7,
      "outputs": [
        {
          "output_type": "execute_result",
          "data": {
            "text/plain": [
              "True"
            ]
          },
          "metadata": {},
          "execution_count": 7
        }
      ]
    },
    {
      "cell_type": "markdown",
      "source": [
        "#Identity Operators"
      ],
      "metadata": {
        "id": "ydXPGrOrRvOZ"
      }
    },
    {
      "cell_type": "code",
      "source": [
        "a,b,c =0,-1,5\n",
        "a is c"
      ],
      "metadata": {
        "colab": {
          "base_uri": "https://localhost:8080/"
        },
        "id": "pnIQ8t7JR14R",
        "outputId": "0e38b931-b616-4543-cad9-47122495d2db"
      },
      "execution_count": 8,
      "outputs": [
        {
          "output_type": "execute_result",
          "data": {
            "text/plain": [
              "False"
            ]
          },
          "metadata": {},
          "execution_count": 8
        }
      ]
    }
  ]
}