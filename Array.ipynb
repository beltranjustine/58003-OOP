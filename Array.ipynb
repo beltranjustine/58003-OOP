{
  "nbformat": 4,
  "nbformat_minor": 0,
  "metadata": {
    "colab": {
      "provenance": [],
      "authorship_tag": "ABX9TyN0ZhbXVYCcSQa9ePWKwFsV",
      "include_colab_link": true
    },
    "kernelspec": {
      "name": "python3",
      "display_name": "Python 3"
    },
    "language_info": {
      "name": "python"
    }
  },
  "cells": [
    {
      "cell_type": "markdown",
      "metadata": {
        "id": "view-in-github",
        "colab_type": "text"
      },
      "source": [
        "<a href=\"https://colab.research.google.com/github/beltranjustine/58003-OOP/blob/main/Array.ipynb\" target=\"_parent\"><img src=\"https://colab.research.google.com/assets/colab-badge.svg\" alt=\"Open In Colab\"/></a>"
      ]
    },
    {
      "cell_type": "code",
      "execution_count": 4,
      "metadata": {
        "colab": {
          "base_uri": "https://localhost:8080/"
        },
        "id": "kuq6RT7m39Y9",
        "outputId": "fff168b4-716e-43cb-a59d-fb11310db969"
      },
      "outputs": [
        {
          "output_type": "stream",
          "name": "stdout",
          "text": [
            "cat\n",
            "dog\n",
            "fish\n"
          ]
        }
      ],
      "source": [
        "#creating array elements\n",
        "animals=[\"cat\" , \"dog\", \"fish\"]\n",
        "x = animals[0]\n",
        "print(x)\n",
        "y = animals[1]\n",
        "print(y)\n",
        "z = animals[2]\n",
        "print(z)"
      ]
    },
    {
      "cell_type": "code",
      "source": [
        "#modifying array elements\n",
        "animals[0] = \"monkey\"\n",
        "print(animals[0])\n",
        "print(\"The array of animals : \", animals)"
      ],
      "metadata": {
        "colab": {
          "base_uri": "https://localhost:8080/"
        },
        "id": "cDMKkrxt6ALT",
        "outputId": "5765192b-fdb8-49c0-8bc0-757e1e93a23e"
      },
      "execution_count": 6,
      "outputs": [
        {
          "output_type": "stream",
          "name": "stdout",
          "text": [
            "monkey\n",
            "The array of animals :  ['monkey', 'dog', 'fish']\n"
          ]
        }
      ]
    },
    {
      "cell_type": "code",
      "source": [
        "#length of an array\n",
        "x = len(animals)\n",
        "print(x)"
      ],
      "metadata": {
        "colab": {
          "base_uri": "https://localhost:8080/"
        },
        "id": "36yXVysT7kIs",
        "outputId": "36b7e20d-82b0-4416-be53-ca530ded2ad4"
      },
      "execution_count": 7,
      "outputs": [
        {
          "output_type": "stream",
          "name": "stdout",
          "text": [
            "3\n"
          ]
        }
      ]
    },
    {
      "cell_type": "code",
      "source": [
        "#Deletion of elements in aray\n",
        "\n",
        "print(animals)\n",
        "\n"
      ],
      "metadata": {
        "colab": {
          "base_uri": "https://localhost:8080/"
        },
        "id": "XD7VCRkP7t3a",
        "outputId": "9a3d4f14-5389-4ef1-c50a-dd3c1150b1f1"
      },
      "execution_count": 9,
      "outputs": [
        {
          "output_type": "stream",
          "name": "stdout",
          "text": [
            "['monkey', 'dog', 'fish']\n"
          ]
        }
      ]
    },
    {
      "cell_type": "code",
      "source": [
        "#append element in array\n",
        "animals = ['monkey', 'cat', 'dog', 'fish']\n",
        "animals.append(\"bird\")\n",
        "print(animals)"
      ],
      "metadata": {
        "colab": {
          "base_uri": "https://localhost:8080/"
        },
        "id": "hXZBbQsw79TE",
        "outputId": "4e6a31b1-4f43-43f4-ea7a-b6eaccad543d"
      },
      "execution_count": 4,
      "outputs": [
        {
          "output_type": "stream",
          "name": "stdout",
          "text": [
            "['monkey', 'cat', 'dog', 'fish', 'bird']\n"
          ]
        }
      ]
    },
    {
      "cell_type": "code",
      "source": [
        "#insert an element in array\n",
        "nimals = ['monkey', 'cat', 'dog','fish']\n",
        "animals.insert(0, \"bird\")\n",
        "print(animals)\n",
        "animals.insert(2,\"lion\")\n",
        "print(animals)"
      ],
      "metadata": {
        "colab": {
          "base_uri": "https://localhost:8080/"
        },
        "id": "rjy8rYjZJ7R6",
        "outputId": "068f49f0-4ceb-4327-d586-f195af50b79e"
      },
      "execution_count": 5,
      "outputs": [
        {
          "output_type": "stream",
          "name": "stdout",
          "text": [
            "['bird', 'monkey', 'cat', 'dog', 'fish', 'bird']\n",
            "['bird', 'monkey', 'lion', 'cat', 'dog', 'fish', 'bird']\n"
          ]
        }
      ]
    },
    {
      "cell_type": "code",
      "source": [
        "#delete dog from array elements\n",
        "animals.remove('dog')\n",
        "print(animals)"
      ],
      "metadata": {
        "colab": {
          "base_uri": "https://localhost:8080/"
        },
        "id": "ZOYHWNGuKfJC",
        "outputId": "1e037e2d-1d7f-4038-d273-6f9e73a3e8d0"
      },
      "execution_count": 6,
      "outputs": [
        {
          "output_type": "stream",
          "name": "stdout",
          "text": [
            "['bird', 'monkey', 'lion', 'cat', 'fish', 'bird']\n"
          ]
        }
      ]
    }
  ]
}