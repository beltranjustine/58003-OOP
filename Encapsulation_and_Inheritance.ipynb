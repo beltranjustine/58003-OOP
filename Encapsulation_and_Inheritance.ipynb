{
  "nbformat": 4,
  "nbformat_minor": 0,
  "metadata": {
    "colab": {
      "provenance": [],
      "authorship_tag": "ABX9TyNARi/rDi3ny8zrYixnKACX",
      "include_colab_link": true
    },
    "kernelspec": {
      "name": "python3",
      "display_name": "Python 3"
    },
    "language_info": {
      "name": "python"
    }
  },
  "cells": [
    {
      "cell_type": "markdown",
      "metadata": {
        "id": "view-in-github",
        "colab_type": "text"
      },
      "source": [
        "<a href=\"https://colab.research.google.com/github/beltranjustine/58003-OOP/blob/main/Encapsulation_and_Inheritance.ipynb\" target=\"_parent\"><img src=\"https://colab.research.google.com/assets/colab-badge.svg\" alt=\"Open In Colab\"/></a>"
      ]
    },
    {
      "cell_type": "markdown",
      "source": [
        "without Encapsulation"
      ],
      "metadata": {
        "id": "rjYYMSUFVre3"
      }
    },
    {
      "cell_type": "code",
      "source": [
        "class foo:\n",
        "  def __init__(self,a,b):\n",
        "    self.a = a\n",
        "    self.b = b\n",
        "  def add(self):\n",
        "    return self.a + self.b\n",
        "foo_object = foo(3,4)\n",
        "foo_object.add()"
      ],
      "metadata": {
        "colab": {
          "base_uri": "https://localhost:8080/"
        },
        "id": "0gDwOFZ_XWH-",
        "outputId": "025137bb-a10d-4023-e405-9595cc73a031"
      },
      "execution_count": 7,
      "outputs": [
        {
          "output_type": "execute_result",
          "data": {
            "text/plain": [
              "7"
            ]
          },
          "metadata": {},
          "execution_count": 7
        }
      ]
    },
    {
      "cell_type": "markdown",
      "source": [
        "with Encapsulation"
      ],
      "metadata": {
        "id": "ZNexfmfwaBsU"
      }
    },
    {
      "cell_type": "code",
      "source": [
        "#example 1\n",
        "class foo:\n",
        "  def __init__(self,a,b):\n",
        "    self.__a = a\n",
        "    self.__b = b\n",
        "  def add(self):\n",
        "    return self.__a + self.__b\n",
        "foo_object = foo(3,4)\n",
        "foo_object.add()"
      ],
      "metadata": {
        "colab": {
          "base_uri": "https://localhost:8080/"
        },
        "id": "kAQsNqhMaEpT",
        "outputId": "99f9dc1d-c77d-4768-ad11-9df368c82745"
      },
      "execution_count": 8,
      "outputs": [
        {
          "output_type": "execute_result",
          "data": {
            "text/plain": [
              "7"
            ]
          },
          "metadata": {},
          "execution_count": 8
        }
      ]
    },
    {
      "cell_type": "code",
      "source": [
        "#example 2\n",
        "class Counter:\n",
        "  def __init__(self,current):\n",
        "    self.__current = 0\n",
        "\n",
        "  def increment(self):\n",
        "   self.__current +=1\n",
        "\n",
        "  def value(self):\n",
        "    return self.__current\n",
        "  \n",
        "  def reset(self):\n",
        "    self.__current = 0\n",
        "\n",
        "  def display_counter(self):\n",
        "    print(\"The Increment is: \", self.increment())\n",
        "    print(\"The Current Value is: \", self.value())\n",
        "    print(\"Reset Value is: \",self.reset())\n",
        "\n",
        "counter1 =  Counter(0)\n",
        "counter1.display_counter()"
      ],
      "metadata": {
        "colab": {
          "base_uri": "https://localhost:8080/"
        },
        "id": "OvIeGABBah7s",
        "outputId": "88a2b3fa-b2d4-4127-df2e-00f2d458ab24"
      },
      "execution_count": 41,
      "outputs": [
        {
          "output_type": "stream",
          "name": "stdout",
          "text": [
            "The Increment is:  None\n",
            "The Current Value is:  1\n",
            "Reset Value is:  None\n"
          ]
        }
      ]
    },
    {
      "cell_type": "code",
      "source": [
        "class Person:\n",
        "  def __init__(self,name,birthdate):\n",
        "    self.name = name\n",
        "    self. birthdate = birthdate\n",
        "  def display_identity(self):\n",
        "    print(\"My name is: \",self.name)\n",
        "    print(\"My birthdate is: \",self.birthdate)\n",
        "\n",
        "class Teacher(Person):\n",
        "  pass\n",
        "\n",
        "class Student(Person):\n",
        "  pass\n",
        "\n",
        "teacher = Teacher(\"Maria\",\"February 20,1987\")\n",
        "student = Student(\"Ana\",\"January 23,2013\")\n",
        "\n",
        "teacher.display_identity()\n",
        "student.display_identity()"
      ],
      "metadata": {
        "colab": {
          "base_uri": "https://localhost:8080/"
        },
        "id": "M-1CC-H0f7GR",
        "outputId": "b127a95f-a671-46f1-a699-b26201fbd201"
      },
      "execution_count": 48,
      "outputs": [
        {
          "output_type": "stream",
          "name": "stdout",
          "text": [
            "My name is:  Maria\n",
            "My birthdate is:  February 20,1987\n",
            "My name is:  Ana\n",
            "My birthdate is:  January 23,2013\n"
          ]
        }
      ]
    },
    {
      "cell_type": "code",
      "source": [
        "class Shapes:\n",
        "  def __init__(self,name,sides):\n",
        "    self.name = name\n",
        "    self.sides = sides\n",
        "  def display_identity(self):\n",
        "    print(\"The name of the shape is : \",self.name)\n",
        "    print(\"The number of sides is: \",self.sides)\n",
        "\n",
        "class Square(Shapes):\n",
        "  pass\n",
        "\n",
        "class Pentagon(Shapes):\n",
        "  pass\n",
        "\n",
        "class Triangle(Shapes):\n",
        "  pass\n",
        "\n",
        "class Hexagon(Shapes):\n",
        "  pass\n",
        "\n",
        "class Decagon(Shapes):\n",
        "  pass\n",
        "  \n",
        "square = Square(\"Square\",\"4\")\n",
        "triangle = Triangle(\"Triangle\",\"3\")\n",
        "pentagon = Pentagon(\"Pentagon\",\"5\")\n",
        "hexagon = Hexagon(\"Hexagon\",\"6\")\n",
        "decagon = Decagon(\"Decagon\",\"10\")\n",
        "\n",
        "square.display_identity()\n",
        "triangle.display_identity()\n",
        "pentagon.display_identity()\n",
        "hexagon.display_identity()\n",
        "decagon.display_identity()\n",
        "\n",
        "\n"
      ],
      "metadata": {
        "colab": {
          "base_uri": "https://localhost:8080/"
        },
        "id": "tFw9Z_EXiISm",
        "outputId": "83ee91e6-786d-44da-839b-b757e416ed88"
      },
      "execution_count": 65,
      "outputs": [
        {
          "output_type": "stream",
          "name": "stdout",
          "text": [
            "The name of the shape is :  Square\n",
            "The number of sides is:  4\n",
            "The name of the shape is :  Triangle\n",
            "The number of sides is:  3\n",
            "The name of the shape is :  Pentagon\n",
            "The number of sides is:  5\n",
            "The name of the shape is :  Hexagon\n",
            "The number of sides is:  6\n",
            "The name of the shape is :  Decagon\n",
            "The number of sides is:  10\n"
          ]
        }
      ]
    }
  ]
}