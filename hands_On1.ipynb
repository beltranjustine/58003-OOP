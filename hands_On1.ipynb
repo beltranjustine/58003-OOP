{
  "nbformat": 4,
  "nbformat_minor": 0,
  "metadata": {
    "colab": {
      "provenance": [],
      "authorship_tag": "ABX9TyOIjlSNOGuol857srhNZ4QR",
      "include_colab_link": true
    },
    "kernelspec": {
      "name": "python3",
      "display_name": "Python 3"
    },
    "language_info": {
      "name": "python"
    }
  },
  "cells": [
    {
      "cell_type": "markdown",
      "metadata": {
        "id": "view-in-github",
        "colab_type": "text"
      },
      "source": [
        "<a href=\"https://colab.research.google.com/github/beltranjustine/58003-OOP/blob/main/hands_On1.ipynb\" target=\"_parent\"><img src=\"https://colab.research.google.com/assets/colab-badge.svg\" alt=\"Open In Colab\"/></a>"
      ]
    },
    {
      "cell_type": "code",
      "execution_count": 24,
      "metadata": {
        "colab": {
          "base_uri": "https://localhost:8080/"
        },
        "id": "_iLB-W6gP0o8",
        "outputId": "6792cb3a-9055-44f1-c0e0-fbeac0742db4"
      },
      "outputs": [
        {
          "output_type": "stream",
          "name": "stdout",
          "text": [
            "The average is:  84.33333333333333\n",
            "The average is:  92.0\n",
            "The average is:  80.66666666666667\n"
          ]
        }
      ],
      "source": [
        "# 1. create a python program that displays the name of three students (Student1, Student 2, Student 3) and their term grades\n",
        "# 2. create a class name Person and attributes - std1,std2,std3, pre lim. midterm, finals\n",
        "# 3. Compute the average of each term grade using Grade() method\n",
        "# 4. information about student's grades must be hidden from others\n",
        "\n",
        "class Person:\n",
        "  def __init__(self,prelim,midterm,finals):\n",
        "    self.prelim = prelim\n",
        "    self.midterm = midterm\n",
        "    self.finals = finals\n",
        "\n",
        "  def grade(self):\n",
        "    average = (self.prelim+self.midterm+self.finals)/3\n",
        "    print(\"The average is: \",average)\n",
        "\n",
        "std1 = Person(80,85,88)\n",
        "std1.grade()\n",
        "\n",
        "std2 = Person(92,89,95)\n",
        "std2.grade()\n",
        "\n",
        "std3 = Person(78,81,83)\n",
        "std3.grade()"
      ]
    },
    {
      "cell_type": "code",
      "source": [],
      "metadata": {
        "id": "rha72u4JT6MU"
      },
      "execution_count": null,
      "outputs": []
    }
  ]
}