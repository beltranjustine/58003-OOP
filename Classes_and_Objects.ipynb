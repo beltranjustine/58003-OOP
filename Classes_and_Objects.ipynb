{
  "nbformat": 4,
  "nbformat_minor": 0,
  "metadata": {
    "colab": {
      "provenance": [],
      "authorship_tag": "ABX9TyNMu/Ac6eCkhEx0X+hpRWFk",
      "include_colab_link": true
    },
    "kernelspec": {
      "name": "python3",
      "display_name": "Python 3"
    },
    "language_info": {
      "name": "python"
    }
  },
  "cells": [
    {
      "cell_type": "markdown",
      "metadata": {
        "id": "view-in-github",
        "colab_type": "text"
      },
      "source": [
        "<a href=\"https://colab.research.google.com/github/beltranjustine/58003-OOP/blob/main/Classes_and_Objects.ipynb\" target=\"_parent\"><img src=\"https://colab.research.google.com/assets/colab-badge.svg\" alt=\"Open In Colab\"/></a>"
      ]
    },
    {
      "cell_type": "code",
      "execution_count": 32,
      "metadata": {
        "colab": {
          "base_uri": "https://localhost:8080/"
        },
        "id": "745Fs0s3Lp0I",
        "outputId": "f8ad4383-f942-4dd1-cc9c-45e0b2e8e9df"
      },
      "outputs": [
        {
          "output_type": "stream",
          "name": "stdout",
          "text": [
            "The Perimeter of the rectangle is  30\n",
            "The Area of the rectangle is  50\n"
          ]
        },
        {
          "output_type": "execute_result",
          "data": {
            "text/plain": [
              "(10, 5)"
            ]
          },
          "metadata": {},
          "execution_count": 32
        }
      ],
      "source": [
        "#write a Rectangle class in Python Language with length and width as attributes\n",
        "#Create a Perimeter() and Area () as methods to compute for the perimeter and area of the rectangle\n",
        "\n",
        "class Rectangle:\n",
        "  def __init__(self, length, width):\n",
        "    self.length = length\n",
        "    self. width = width\n",
        "\n",
        "  def Perimeter(self):\n",
        "    return 2*(self.length + self.width)\n",
        "\n",
        "  def Area(self):\n",
        "    return self.length * self.width\n",
        "\n",
        "  def Rectangle(self):\n",
        "    return self.length, self.width\n",
        "\n",
        "  def display(self):\n",
        "    print(\"The Perimeter of the rectangle is \", self.Perimeter())\n",
        "    print(\"The Area of the rectangle is \", self.Area())\n",
        "\n",
        "rectangle = Rectangle(10,5)\n",
        "\n",
        "rectangle.display()\n",
        "rectangle.Rectangle()\n"
      ]
    },
    {
      "cell_type": "code",
      "source": [
        "#modify the object properties\n",
        "\n",
        "rectangle.length = 7\n",
        "\n",
        "rectangle.Rectangle()\n",
        "\n",
        "rectangle.display()\n",
        "\n"
      ],
      "metadata": {
        "colab": {
          "base_uri": "https://localhost:8080/"
        },
        "id": "W3WJx1O5Ybkt",
        "outputId": "866fba79-5e1b-4ed4-cae9-1b51718585d4"
      },
      "execution_count": 42,
      "outputs": [
        {
          "output_type": "stream",
          "name": "stdout",
          "text": [
            "The Perimeter of the rectangle is  24\n",
            "The Area of the rectangle is  35\n"
          ]
        }
      ]
    },
    {
      "cell_type": "code",
      "source": [
        "#Short Activity\n",
        "\n",
        "#Write a Pythin program to create the following:\n",
        "# student as a Class Name\n",
        "# Full Name,Age, and School as Attributes\n",
        "#Identity as Method\n",
        "# Student as Object Name\n",
        "\n",
        "#Note: This will display all the student's idetity such as Full Name, Age, and School\n",
        "\n",
        "class Student:\n",
        "  def __init__(self, full_name, age, school):\n",
        "    self.full_name = full_name\n",
        "    self.age = age\n",
        "    self.school = school\n",
        "\n",
        "  def identity(self):\n",
        "    print(f\"Name: {self.full_name}\\nAge: {self.age\\nSchool: {self.school}\")\n",
        "\n",
        "  student1 = Student(\"Justine Joseph Beltran\", 21, \"Adamson University\")\n",
        "\n",
        "  student1.identity()"
      ],
      "metadata": {
        "colab": {
          "base_uri": "https://localhost:8080/",
          "height": 130
        },
        "id": "hL7lcVEMfDlz",
        "outputId": "640fb0e3-fa06-4c1a-a49b-0dcdb55785bd"
      },
      "execution_count": 51,
      "outputs": [
        {
          "output_type": "error",
          "ename": "SyntaxError",
          "evalue": "ignored",
          "traceback": [
            "\u001b[0;36m  File \u001b[0;32m\"<ipython-input-51-b0a81e054e10>\"\u001b[0;36m, line \u001b[0;32m18\u001b[0m\n\u001b[0;31m    print(f\"Name: {self.full_name}\\nAge: {self.age\\nSchool: {self.school}\")\u001b[0m\n\u001b[0m                                                                          ^\u001b[0m\n\u001b[0;31mSyntaxError\u001b[0m\u001b[0;31m:\u001b[0m f-string expression part cannot include a backslash\n"
          ]
        }
      ]
    }
  ]
}